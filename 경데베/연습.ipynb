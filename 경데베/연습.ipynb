{
 "cells": [
  {
   "cell_type": "code",
   "execution_count": 1,
   "metadata": {},
   "outputs": [
    {
     "data": {
      "text/plain": [
       "\"python's favorite food is a perl\""
      ]
     },
     "execution_count": 1,
     "metadata": {},
     "output_type": "execute_result"
    }
   ],
   "source": [
    "'python\\'s favorite food is a perl'"
   ]
  },
  {
   "cell_type": "code",
   "execution_count": 2,
   "metadata": {},
   "outputs": [
    {
     "data": {
      "text/plain": [
       "'\"python is very easy.\" he says.'"
      ]
     },
     "execution_count": 2,
     "metadata": {},
     "output_type": "execute_result"
    }
   ],
   "source": [
    "\"\\\"python is very easy.\\\" he says.\""
   ]
  },
  {
   "cell_type": "code",
   "execution_count": 3,
   "metadata": {},
   "outputs": [
    {
     "data": {
      "text/plain": [
       "'python python '"
      ]
     },
     "execution_count": 3,
     "metadata": {},
     "output_type": "execute_result"
    }
   ],
   "source": [
    "a = 'python '\n",
    "a * 2"
   ]
  },
  {
   "cell_type": "code",
   "execution_count": 7,
   "metadata": {},
   "outputs": [
    {
     "name": "stdout",
     "output_type": "stream",
     "text": [
      "python python python \n"
     ]
    }
   ],
   "source": [
    "print(a*3)"
   ]
  },
  {
   "cell_type": "code",
   "execution_count": 8,
   "metadata": {},
   "outputs": [],
   "source": [
    "a = \"pithon\""
   ]
  },
  {
   "cell_type": "code",
   "execution_count": 9,
   "metadata": {},
   "outputs": [
    {
     "name": "stdout",
     "output_type": "stream",
     "text": [
      "python\n"
     ]
    }
   ],
   "source": [
    "a = a[0] + \"y\" + a[2:]\n",
    "print(a)"
   ]
  },
  {
   "cell_type": "code",
   "execution_count": 10,
   "metadata": {},
   "outputs": [
    {
     "data": {
      "text/plain": [
       "'python'"
      ]
     },
     "execution_count": 10,
     "metadata": {},
     "output_type": "execute_result"
    }
   ],
   "source": [
    "a"
   ]
  },
  {
   "cell_type": "code",
   "execution_count": 21,
   "metadata": {},
   "outputs": [
    {
     "name": "stdout",
     "output_type": "stream",
     "text": [
      "['AZ', 'CA', 'CO', 'UT', 'WA']\n",
      "['AZ', 'CA', 'CO', 'UT', 'WA', 'NV']\n"
     ]
    }
   ],
   "source": [
    "w_states = ['CA', 'WA', 'AZ', 'UT', 'CO']\n",
    "e_states = ['NJ', 'MA', 'NY', 'VA', 'PA']\n",
    "w_states.sort()\n",
    "print(w_states)\n",
    "w_states.append('NV')\n",
    "print(w_states)"
   ]
  },
  {
   "cell_type": "code",
   "execution_count": 22,
   "metadata": {},
   "outputs": [
    {
     "data": {
      "text/plain": [
       "['AZ', 'CA', 'CO', 'UT', 'WA', 'NV']"
      ]
     },
     "execution_count": 22,
     "metadata": {},
     "output_type": "execute_result"
    }
   ],
   "source": [
    "w_states"
   ]
  },
  {
   "cell_type": "code",
   "execution_count": 23,
   "metadata": {},
   "outputs": [
    {
     "data": {
      "text/plain": [
       "['AZ', 'CA', 'CO', 'UT', 'WA', 'NV', 'NJ', 'MA', 'NY', 'VA', 'PA']"
      ]
     },
     "execution_count": 23,
     "metadata": {},
     "output_type": "execute_result"
    }
   ],
   "source": [
    "states = w_states + e_states\n",
    "states"
   ]
  },
  {
   "cell_type": "code",
   "execution_count": 24,
   "metadata": {},
   "outputs": [
    {
     "data": {
      "text/plain": [
       "['AZ', 'CA', 'CO', 'UT', 'WA', 'NV']"
      ]
     },
     "execution_count": 24,
     "metadata": {},
     "output_type": "execute_result"
    }
   ],
   "source": [
    "w_states"
   ]
  },
  {
   "cell_type": "code",
   "execution_count": 1,
   "metadata": {},
   "outputs": [
    {
     "name": "stdout",
     "output_type": "stream",
     "text": [
      "당신의 학점은 2.8입니다.\n",
      "당신은 졸업생입니다.\n"
     ]
    }
   ],
   "source": [
    "my_gpa = float(input(\"학점을 입력하세요\"))\n",
    "if my_gpa >= 4.3:\n",
    "    print(\"당신의 학점은 {my_gpa}입니다.\" .format(my_gpa=my_gpa))\n",
    "    print(\"당신은 최우수졸업생입니다.\")\n",
    "elif my_gpa >= 4.0:\n",
    "    print(\"당신의 학점은 {a}입니다.\" .format(a=my_gpa))\n",
    "    print(\"당신은 우수졸업생입니다\")\n",
    "elif my_gpa <= 2.5:\n",
    "    print(\"당신의 학점은 {b}입니다.\" .format(b=my_gpa))\n",
    "    print(\"당신의 졸업유예생입니다\")\n",
    "else:\n",
    "    print(\"당신의 학점은 {my_gpa}입니다.\" .format(my_gpa=my_gpa))\n",
    "    print(\"당신은 졸업생입니다.\")"
   ]
  },
  {
   "cell_type": "code",
   "execution_count": null,
   "metadata": {},
   "outputs": [],
   "source": [
    "one = int(input(\"첫번째 값 입력--- \"))\n",
    "two = int(input(\"두번째 값 입력--- \"))\n",
    "result = one + two\n",
    "print(\"두값의 합:\", result)"
   ]
  },
  {
   "cell_type": "code",
   "execution_count": null,
   "metadata": {},
   "outputs": [],
   "source": [
    "ab = [\"a\", \"b\", \"c\", \"d\"]\n",
    "ab[3]"
   ]
  },
  {
   "cell_type": "code",
   "execution_count": null,
   "metadata": {},
   "outputs": [],
   "source": []
  }
 ],
 "metadata": {
  "kernelspec": {
   "display_name": "Python 3",
   "language": "python",
   "name": "python3"
  },
  "language_info": {
   "codemirror_mode": {
    "name": "ipython",
    "version": 3
   },
   "file_extension": ".py",
   "mimetype": "text/x-python",
   "name": "python",
   "nbconvert_exporter": "python",
   "pygments_lexer": "ipython3",
   "version": "3.6.4"
  }
 },
 "nbformat": 4,
 "nbformat_minor": 2
}
